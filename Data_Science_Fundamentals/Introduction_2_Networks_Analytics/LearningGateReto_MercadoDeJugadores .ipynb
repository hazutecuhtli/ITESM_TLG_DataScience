{
 "cells": [
  {
   "cell_type": "markdown",
   "id": "4ce3b63c-8afe-4f0e-bf5e-119bf093c326",
   "metadata": {},
   "source": [
    "# Learning Gate - Reto\n",
    "\n",
    "## Audiencias en Fútbol\n",
    "\n",
    "### Data Science - Neworks Analytics Concepts"
   ]
  },
  {
   "cell_type": "markdown",
   "id": "ef6443a6-8010-40ce-9e68-182d4749171c",
   "metadata": {},
   "source": [
    "## Introducción \n",
    "\n",
    "Una parte importante de los equipos profesionales de fútbol es la forma en la que el mercado de jugadores se lleva a cabo. SportX está haciendo un  estudio sobre la forma en la que los jugadores se mueven.\n",
    "\n",
    "## Objetivo\n",
    "\n",
    "Hacer un análisis de una red relacionada al fútbol, en este caso a la compra y venta de jugadores en equipos profesionales.\n",
    "- Aplicar algunas de las formas de calcular centralidad.\n",
    "- Obtener algunas de las características de la red presentada, como es el agrupamiento, las distancias, el diámetro y el radio."
   ]
  },
  {
   "cell_type": "markdown",
   "id": "bf36c972-7a39-41fd-b542-c9ca681ab904",
   "metadata": {},
   "source": [
    "## Importing Libraries and Preparing Data to be Processed\n",
    "\n",
    "### Importing Libraries"
   ]
  },
  {
   "cell_type": "code",
   "execution_count": 1,
   "id": "2bd18905-457b-4ac0-a083-2d7b5b79fe09",
   "metadata": {},
   "outputs": [],
   "source": [
    "import os, math\n",
    "import networkx as nx \n",
    "import numpy as np\n",
    "import pandas as pd\n",
    "import scipy as sci\n",
    "import seaborn as sns\n",
    "import matplotlib.pyplot as plt\n",
    "\n",
    "%matplotlib inline"
   ]
  },
  {
   "cell_type": "markdown",
   "id": "427fd062-7028-4da5-a1fc-74a4ed3d2cac",
   "metadata": {},
   "source": [
    "### Loading Data\n",
    "\n",
    "#### Data Description:\n",
    "\n",
    "Con los datos que están en el archivo DatosVentas.txt, que contiene una matriz de adyacencias. Los vértices representan equipos de fútbol y las aristas representan la compra – venta de jugadores entre los equipos. La idea es estudiar un poco el mercado, estableciendo si hay agrupamientos y nodos centrales, ya que quizás hay equipos que preparan a jugadores y después los venden, o equipos que se forman exclusivamente con la compra de jugadores. Debes hacer lo siguiente:"
   ]
  },
  {
   "cell_type": "markdown",
   "id": "679ecb63-f6ac-4bf3-bd74-0ef555189175",
   "metadata": {},
   "source": [
    "- ***Adjacency Matrix***"
   ]
  },
  {
   "cell_type": "code",
   "execution_count": 2,
   "id": "de9bae94-7963-49fc-8883-2e0bba2af753",
   "metadata": {},
   "outputs": [
    {
     "data": {
      "text/html": [
       "<div>\n",
       "<style scoped>\n",
       "    .dataframe tbody tr th:only-of-type {\n",
       "        vertical-align: middle;\n",
       "    }\n",
       "\n",
       "    .dataframe tbody tr th {\n",
       "        vertical-align: top;\n",
       "    }\n",
       "\n",
       "    .dataframe thead th {\n",
       "        text-align: right;\n",
       "    }\n",
       "</style>\n",
       "<table border=\"1\" class=\"dataframe\">\n",
       "  <thead>\n",
       "    <tr style=\"text-align: right;\">\n",
       "      <th></th>\n",
       "      <th>Team 1</th>\n",
       "      <th>Team 2</th>\n",
       "      <th>Team 3</th>\n",
       "      <th>Team 4</th>\n",
       "      <th>Team 5</th>\n",
       "      <th>Team 6</th>\n",
       "      <th>Team 7</th>\n",
       "      <th>Team 8</th>\n",
       "      <th>Team 9</th>\n",
       "      <th>Team 10</th>\n",
       "    </tr>\n",
       "  </thead>\n",
       "  <tbody>\n",
       "    <tr>\n",
       "      <th>Team 1</th>\n",
       "      <td>0</td>\n",
       "      <td>1</td>\n",
       "      <td>0</td>\n",
       "      <td>0</td>\n",
       "      <td>0</td>\n",
       "      <td>0</td>\n",
       "      <td>0</td>\n",
       "      <td>0</td>\n",
       "      <td>0</td>\n",
       "      <td>0</td>\n",
       "    </tr>\n",
       "    <tr>\n",
       "      <th>Team 2</th>\n",
       "      <td>1</td>\n",
       "      <td>0</td>\n",
       "      <td>0</td>\n",
       "      <td>1</td>\n",
       "      <td>0</td>\n",
       "      <td>0</td>\n",
       "      <td>0</td>\n",
       "      <td>0</td>\n",
       "      <td>0</td>\n",
       "      <td>0</td>\n",
       "    </tr>\n",
       "    <tr>\n",
       "      <th>Team 3</th>\n",
       "      <td>0</td>\n",
       "      <td>0</td>\n",
       "      <td>0</td>\n",
       "      <td>1</td>\n",
       "      <td>0</td>\n",
       "      <td>0</td>\n",
       "      <td>0</td>\n",
       "      <td>0</td>\n",
       "      <td>0</td>\n",
       "      <td>0</td>\n",
       "    </tr>\n",
       "    <tr>\n",
       "      <th>Team 4</th>\n",
       "      <td>0</td>\n",
       "      <td>1</td>\n",
       "      <td>1</td>\n",
       "      <td>0</td>\n",
       "      <td>1</td>\n",
       "      <td>1</td>\n",
       "      <td>1</td>\n",
       "      <td>0</td>\n",
       "      <td>1</td>\n",
       "      <td>0</td>\n",
       "    </tr>\n",
       "    <tr>\n",
       "      <th>Team 5</th>\n",
       "      <td>0</td>\n",
       "      <td>0</td>\n",
       "      <td>0</td>\n",
       "      <td>1</td>\n",
       "      <td>0</td>\n",
       "      <td>0</td>\n",
       "      <td>1</td>\n",
       "      <td>1</td>\n",
       "      <td>0</td>\n",
       "      <td>0</td>\n",
       "    </tr>\n",
       "    <tr>\n",
       "      <th>Team 6</th>\n",
       "      <td>0</td>\n",
       "      <td>0</td>\n",
       "      <td>0</td>\n",
       "      <td>1</td>\n",
       "      <td>0</td>\n",
       "      <td>0</td>\n",
       "      <td>0</td>\n",
       "      <td>0</td>\n",
       "      <td>1</td>\n",
       "      <td>0</td>\n",
       "    </tr>\n",
       "    <tr>\n",
       "      <th>Team 7</th>\n",
       "      <td>0</td>\n",
       "      <td>0</td>\n",
       "      <td>0</td>\n",
       "      <td>1</td>\n",
       "      <td>1</td>\n",
       "      <td>0</td>\n",
       "      <td>0</td>\n",
       "      <td>1</td>\n",
       "      <td>1</td>\n",
       "      <td>0</td>\n",
       "    </tr>\n",
       "    <tr>\n",
       "      <th>Team 8</th>\n",
       "      <td>0</td>\n",
       "      <td>0</td>\n",
       "      <td>0</td>\n",
       "      <td>0</td>\n",
       "      <td>1</td>\n",
       "      <td>0</td>\n",
       "      <td>1</td>\n",
       "      <td>0</td>\n",
       "      <td>0</td>\n",
       "      <td>1</td>\n",
       "    </tr>\n",
       "    <tr>\n",
       "      <th>Team 9</th>\n",
       "      <td>0</td>\n",
       "      <td>0</td>\n",
       "      <td>0</td>\n",
       "      <td>1</td>\n",
       "      <td>0</td>\n",
       "      <td>1</td>\n",
       "      <td>1</td>\n",
       "      <td>0</td>\n",
       "      <td>0</td>\n",
       "      <td>1</td>\n",
       "    </tr>\n",
       "    <tr>\n",
       "      <th>Team 10</th>\n",
       "      <td>0</td>\n",
       "      <td>0</td>\n",
       "      <td>0</td>\n",
       "      <td>0</td>\n",
       "      <td>0</td>\n",
       "      <td>0</td>\n",
       "      <td>0</td>\n",
       "      <td>1</td>\n",
       "      <td>1</td>\n",
       "      <td>0</td>\n",
       "    </tr>\n",
       "  </tbody>\n",
       "</table>\n",
       "</div>"
      ],
      "text/plain": [
       "         Team 1  Team 2  Team 3  Team 4  Team 5  Team 6  Team 7  Team 8  \\\n",
       "Team 1        0       1       0       0       0       0       0       0   \n",
       "Team 2        1       0       0       1       0       0       0       0   \n",
       "Team 3        0       0       0       1       0       0       0       0   \n",
       "Team 4        0       1       1       0       1       1       1       0   \n",
       "Team 5        0       0       0       1       0       0       1       1   \n",
       "Team 6        0       0       0       1       0       0       0       0   \n",
       "Team 7        0       0       0       1       1       0       0       1   \n",
       "Team 8        0       0       0       0       1       0       1       0   \n",
       "Team 9        0       0       0       1       0       1       1       0   \n",
       "Team 10       0       0       0       0       0       0       0       1   \n",
       "\n",
       "         Team 9  Team 10  \n",
       "Team 1        0        0  \n",
       "Team 2        0        0  \n",
       "Team 3        0        0  \n",
       "Team 4        1        0  \n",
       "Team 5        0        0  \n",
       "Team 6        1        0  \n",
       "Team 7        1        0  \n",
       "Team 8        0        1  \n",
       "Team 9        0        1  \n",
       "Team 10       1        0  "
      ]
     },
     "metadata": {},
     "output_type": "display_data"
    }
   ],
   "source": [
    "Mat_Adj = []\n",
    "file_path = os.path.join(os.getcwd(), 'Data', 'NwtworkFutbol.txt')\n",
    "\n",
    "with open(file_path) as f:\n",
    "   for i, line in enumerate(f):\n",
    "        if i > 1:\n",
    "            Mat_Adj.append([int(val) for val in line.replace('\\n', '').split(',')])\n",
    "\n",
    "Mat_Adj = pd.DataFrame(Mat_Adj, index=['Team '+str(n) for n in np.arange(1,11)], columns=['Team '+str(n) for n in np.arange(1,11)])\n",
    "display(Mat_Adj)"
   ]
  },
  {
   "cell_type": "markdown",
   "id": "c9807f7d-1ef1-4783-8dbc-a179a7fa0f58",
   "metadata": {},
   "source": [
    "- ***Displaying the Players Sales Networks***"
   ]
  },
  {
   "cell_type": "code",
   "execution_count": 3,
   "id": "3942123b-53fa-42e9-94ba-9e2e21ea330e",
   "metadata": {},
   "outputs": [
    {
     "data": {
      "image/png": "[encoded data removed]",
      "text/plain": [
       "<Figure size 800x600 with 1 Axes>"
      ]
     },
     "metadata": {},
     "output_type": "display_data"
    }
   ],
   "source": [
    "g = nx.Graph(pd.DataFrame(Mat_Adj, index=['Team '+str(n) for n in np.arange(1,11)], columns=['Team '+str(n) for n in np.arange(1,11)]))\n",
    "fig, ax = plt.subplots(1,1 ,figsize=(8,6))\n",
    "pos = nx.kamada_kawai_layout(g)\n",
    "nx.draw_networkx(g, pos, with_labels=True, node_size=800, ax=ax, node_color='r', edge_color='darkturquoise',\n",
    "                 font_size=7, font_color='yellow')\n",
    "ax.set_title('Players Sales Network');"
   ]
  },
  {
   "cell_type": "markdown",
   "id": "1495a470-b144-48d5-aae6-884db44197ed",
   "metadata": {},
   "source": [
    "## Network Characteristics\n",
    "\n",
    "### Nodes Degrees"
   ]
  },
  {
   "cell_type": "code",
   "execution_count": 4,
   "id": "639cbf47-0984-421d-96dd-71bd19895ee7",
   "metadata": {},
   "outputs": [
    {
     "data": {
      "text/html": [
       "<div>\n",
       "<style scoped>\n",
       "    .dataframe tbody tr th:only-of-type {\n",
       "        vertical-align: middle;\n",
       "    }\n",
       "\n",
       "    .dataframe tbody tr th {\n",
       "        vertical-align: top;\n",
       "    }\n",
       "\n",
       "    .dataframe thead th {\n",
       "        text-align: right;\n",
       "    }\n",
       "</style>\n",
       "<table border=\"1\" class=\"dataframe\">\n",
       "  <thead>\n",
       "    <tr style=\"text-align: right;\">\n",
       "      <th></th>\n",
       "      <th>Team 1</th>\n",
       "      <th>Team 2</th>\n",
       "      <th>Team 3</th>\n",
       "      <th>Team 4</th>\n",
       "      <th>Team 5</th>\n",
       "      <th>Team 6</th>\n",
       "      <th>Team 7</th>\n",
       "      <th>Team 8</th>\n",
       "      <th>Team 9</th>\n",
       "      <th>Team 10</th>\n",
       "    </tr>\n",
       "  </thead>\n",
       "  <tbody>\n",
       "    <tr>\n",
       "      <th>Degrees</th>\n",
       "      <td>1</td>\n",
       "      <td>2</td>\n",
       "      <td>1</td>\n",
       "      <td>6</td>\n",
       "      <td>3</td>\n",
       "      <td>2</td>\n",
       "      <td>4</td>\n",
       "      <td>3</td>\n",
       "      <td>4</td>\n",
       "      <td>2</td>\n",
       "    </tr>\n",
       "  </tbody>\n",
       "</table>\n",
       "</div>"
      ],
      "text/plain": [
       "         Team 1  Team 2  Team 3  Team 4  Team 5  Team 6  Team 7  Team 8  \\\n",
       "Degrees       1       2       1       6       3       2       4       3   \n",
       "\n",
       "         Team 9  Team 10  \n",
       "Degrees       4        2  "
      ]
     },
     "execution_count": 4,
     "metadata": {},
     "output_type": "execute_result"
    }
   ],
   "source": [
    "NodesDegress = pd.DataFrame(pd.DataFrame(g.degree(['Team '+str(n) for n in np.arange(1,11)]))).rename(columns={0:'', 1:'Degrees'}).set_index('').T\n",
    "NodesDegress"
   ]
  },
  {
   "cell_type": "markdown",
   "id": "f0efa00f-4a8e-4a1e-a661-f36f60a98e6e",
   "metadata": {},
   "source": [
    "### Degrees Sequence"
   ]
  },
  {
   "cell_type": "code",
   "execution_count": 5,
   "id": "270a55bd-c343-4aeb-bf00-212cd0a2866e",
   "metadata": {},
   "outputs": [
    {
     "data": {
      "text/html": [
       "<div>\n",
       "<style scoped>\n",
       "    .dataframe tbody tr th:only-of-type {\n",
       "        vertical-align: middle;\n",
       "    }\n",
       "\n",
       "    .dataframe tbody tr th {\n",
       "        vertical-align: top;\n",
       "    }\n",
       "\n",
       "    .dataframe thead th {\n",
       "        text-align: right;\n",
       "    }\n",
       "</style>\n",
       "<table border=\"1\" class=\"dataframe\">\n",
       "  <thead>\n",
       "    <tr style=\"text-align: right;\">\n",
       "      <th></th>\n",
       "      <th>Team 4</th>\n",
       "      <th>Team 7</th>\n",
       "      <th>Team 9</th>\n",
       "      <th>Team 5</th>\n",
       "      <th>Team 8</th>\n",
       "      <th>Team 2</th>\n",
       "      <th>Team 6</th>\n",
       "      <th>Team 10</th>\n",
       "      <th>Team 1</th>\n",
       "      <th>Team 3</th>\n",
       "    </tr>\n",
       "  </thead>\n",
       "  <tbody>\n",
       "    <tr>\n",
       "      <th>Degrees_Sequence</th>\n",
       "      <td>6</td>\n",
       "      <td>4</td>\n",
       "      <td>4</td>\n",
       "      <td>3</td>\n",
       "      <td>3</td>\n",
       "      <td>2</td>\n",
       "      <td>2</td>\n",
       "      <td>2</td>\n",
       "      <td>1</td>\n",
       "      <td>1</td>\n",
       "    </tr>\n",
       "  </tbody>\n",
       "</table>\n",
       "</div>"
      ],
      "text/plain": [
       "                  Team 4  Team 7  Team 9  Team 5  Team 8  Team 2  Team 6  \\\n",
       "Degrees_Sequence       6       4       4       3       3       2       2   \n",
       "\n",
       "                  Team 10  Team 1  Team 3  \n",
       "Degrees_Sequence        2       1       1  "
      ]
     },
     "execution_count": 5,
     "metadata": {},
     "output_type": "execute_result"
    }
   ],
   "source": [
    "Degrees_Sequence = pd.DataFrame(g.degree(['Team '+str(n) for n in np.arange(1,11)])).rename(columns={0:'', 1:'Degrees_Sequence'}).sort_values('Degrees_Sequence', ascending=False).set_index('').T\n",
    "Degrees_Sequence"
   ]
  },
  {
   "cell_type": "markdown",
   "id": "9db3d731-767b-41c9-ad1e-c8e5b1c70ce7",
   "metadata": {},
   "source": [
    "### Network Eccentricity (Radius and Diameter)"
   ]
  },
  {
   "cell_type": "markdown",
   "id": "9baf81c9-49e1-49e3-ac43-cf30f4be740b",
   "metadata": {},
   "source": [
    "#### Network Eccentricity"
   ]
  },
  {
   "cell_type": "code",
   "execution_count": 6,
   "id": "77f4e762-1930-42b7-846c-76d9a912199f",
   "metadata": {},
   "outputs": [
    {
     "data": {
      "text/html": [
       "<div>\n",
       "<style scoped>\n",
       "    .dataframe tbody tr th:only-of-type {\n",
       "        vertical-align: middle;\n",
       "    }\n",
       "\n",
       "    .dataframe tbody tr th {\n",
       "        vertical-align: top;\n",
       "    }\n",
       "\n",
       "    .dataframe thead th {\n",
       "        text-align: right;\n",
       "    }\n",
       "</style>\n",
       "<table border=\"1\" class=\"dataframe\">\n",
       "  <thead>\n",
       "    <tr style=\"text-align: right;\">\n",
       "      <th></th>\n",
       "      <th>Team 1</th>\n",
       "      <th>Team 2</th>\n",
       "      <th>Team 3</th>\n",
       "      <th>Team 4</th>\n",
       "      <th>Team 5</th>\n",
       "      <th>Team 6</th>\n",
       "      <th>Team 7</th>\n",
       "      <th>Team 8</th>\n",
       "      <th>Team 9</th>\n",
       "      <th>Team 10</th>\n",
       "    </tr>\n",
       "  </thead>\n",
       "  <tbody>\n",
       "    <tr>\n",
       "      <th>Eccentricity</th>\n",
       "      <td>4</td>\n",
       "      <td>3</td>\n",
       "      <td>3</td>\n",
       "      <td>2</td>\n",
       "      <td>3</td>\n",
       "      <td>3</td>\n",
       "      <td>3</td>\n",
       "      <td>4</td>\n",
       "      <td>3</td>\n",
       "      <td>4</td>\n",
       "    </tr>\n",
       "  </tbody>\n",
       "</table>\n",
       "</div>"
      ],
      "text/plain": [
       "              Team 1  Team 2  Team 3  Team 4  Team 5  Team 6  Team 7  Team 8  \\\n",
       "Eccentricity       4       3       3       2       3       3       3       4   \n",
       "\n",
       "              Team 9  Team 10  \n",
       "Eccentricity       3        4  "
      ]
     },
     "execution_count": 6,
     "metadata": {},
     "output_type": "execute_result"
    }
   ],
   "source": [
    "Eccentricity = pd.DataFrame(data=dict(nx.eccentricity(g)).values(), index=dict(nx.eccentricity(g)).keys())\n",
    "Eccentricity.rename(columns={0:'Eccentricity'}).T"
   ]
  },
  {
   "cell_type": "markdown",
   "id": "0e045353-76fe-45bd-903b-9de9a528249e",
   "metadata": {},
   "source": [
    "- ***Network Radius and Diameter***"
   ]
  },
  {
   "cell_type": "code",
   "execution_count": 7,
   "id": "732b7903-79ad-4833-8f6c-d60cf7d16e2d",
   "metadata": {},
   "outputs": [
    {
     "data": {
      "text/html": [
       "<div>\n",
       "<style scoped>\n",
       "    .dataframe tbody tr th:only-of-type {\n",
       "        vertical-align: middle;\n",
       "    }\n",
       "\n",
       "    .dataframe tbody tr th {\n",
       "        vertical-align: top;\n",
       "    }\n",
       "\n",
       "    .dataframe thead th {\n",
       "        text-align: right;\n",
       "    }\n",
       "</style>\n",
       "<table border=\"1\" class=\"dataframe\">\n",
       "  <thead>\n",
       "    <tr style=\"text-align: right;\">\n",
       "      <th></th>\n",
       "      <th>Distance</th>\n",
       "    </tr>\n",
       "  </thead>\n",
       "  <tbody>\n",
       "    <tr>\n",
       "      <th>Radius</th>\n",
       "      <td>2</td>\n",
       "    </tr>\n",
       "    <tr>\n",
       "      <th>Diameter</th>\n",
       "      <td>4</td>\n",
       "    </tr>\n",
       "  </tbody>\n",
       "</table>\n",
       "</div>"
      ],
      "text/plain": [
       "          Distance\n",
       "Radius           2\n",
       "Diameter         4"
      ]
     },
     "execution_count": 7,
     "metadata": {},
     "output_type": "execute_result"
    }
   ],
   "source": [
    "pd.DataFrame({'Radius':[nx.radius(g)], 'Diameter':[nx.diameter(g)]}).T.rename(columns={0:'Distance'})"
   ]
  },
  {
   "cell_type": "markdown",
   "id": "6af35d5a-4171-49a5-9966-a9d7fbaeb7e6",
   "metadata": {},
   "source": [
    "### Distribution Degress"
   ]
  },
  {
   "cell_type": "code",
   "execution_count": 9,
   "id": "49dd0353-e980-4182-8360-3415b0f45260",
   "metadata": {},
   "outputs": [
    {
     "data": {
      "text/html": [
       "<div>\n",
       "<style scoped>\n",
       "    .dataframe tbody tr th:only-of-type {\n",
       "        vertical-align: middle;\n",
       "    }\n",
       "\n",
       "    .dataframe tbody tr th {\n",
       "        vertical-align: top;\n",
       "    }\n",
       "\n",
       "    .dataframe thead th {\n",
       "        text-align: right;\n",
       "    }\n",
       "</style>\n",
       "<table border=\"1\" class=\"dataframe\">\n",
       "  <thead>\n",
       "    <tr style=\"text-align: right;\">\n",
       "      <th></th>\n",
       "      <th>Distribution_p</th>\n",
       "    </tr>\n",
       "    <tr>\n",
       "      <th>Degrees</th>\n",
       "      <th></th>\n",
       "    </tr>\n",
       "  </thead>\n",
       "  <tbody>\n",
       "    <tr>\n",
       "      <th>1</th>\n",
       "      <td>0.2</td>\n",
       "    </tr>\n",
       "    <tr>\n",
       "      <th>2</th>\n",
       "      <td>0.3</td>\n",
       "    </tr>\n",
       "    <tr>\n",
       "      <th>3</th>\n",
       "      <td>0.2</td>\n",
       "    </tr>\n",
       "    <tr>\n",
       "      <th>4</th>\n",
       "      <td>0.2</td>\n",
       "    </tr>\n",
       "    <tr>\n",
       "      <th>6</th>\n",
       "      <td>0.1</td>\n",
       "    </tr>\n",
       "  </tbody>\n",
       "</table>\n",
       "</div>"
      ],
      "text/plain": [
       "         Distribution_p\n",
       "Degrees                \n",
       "1                   0.2\n",
       "2                   0.3\n",
       "3                   0.2\n",
       "4                   0.2\n",
       "6                   0.1"
      ]
     },
     "execution_count": 9,
     "metadata": {},
     "output_type": "execute_result"
    }
   ],
   "source": [
    "Distribution_Degress = pd.DataFrame((NodesDegress.iloc[0,:].value_counts()/10).sort_index()).rename(columns={'count':'Distribution_p'})\n",
    "Distribution_Degress"
   ]
  },
  {
   "cell_type": "code",
   "execution_count": 10,
   "id": "67bb8b2c-30c3-4f18-abb2-3529c022eb2a",
   "metadata": {},
   "outputs": [
    {
     "data": {
      "image/png": "[encoded data removed]",
      "text/plain": [
       "<Figure size 640x480 with 1 Axes>"
      ]
     },
     "metadata": {},
     "output_type": "display_data"
    }
   ],
   "source": [
    "Distribution_Degress.plot();"
   ]
  },
  {
   "cell_type": "markdown",
   "id": "007fbb40-89b9-41f7-810b-487b63937492",
   "metadata": {},
   "source": [
    "### Clustering Coefficients"
   ]
  },
  {
   "cell_type": "code",
   "execution_count": 11,
   "id": "b5aea0f6-e666-480e-81a0-29347dd43abd",
   "metadata": {},
   "outputs": [
    {
     "name": "stdout",
     "output_type": "stream",
     "text": [
      "Clustering Coefficient (Team 4) = 0.2\n",
      "Clustering Coefficient (Team 7) = 0.5\n",
      "Clustering Coefficient (Team 9) = 0.3333333333333333\n"
     ]
    }
   ],
   "source": [
    "nodes2review = ['Team '+str(n) for n in [4,7,9]]\n",
    "\n",
    "for node in nodes2review:\n",
    "    neighbors = [n for n in nx.neighbors(g,node)]\n",
    "    neighbors_links = []\n",
    "    if len(neighbors)>1:\n",
    "        for node1 in neighbors:\n",
    "            for node2 in neighbors:\n",
    "                if g.has_edge(node1, node2):\n",
    "                    neighbors_links.append((node1, node2))\n",
    "        clus_coef = (2*len(neighbors_links)/2)/(len(neighbors)*(len(neighbors)-1))\n",
    "        print('Clustering Coefficient ({}) = {}'.format(node, clus_coef))"
   ]
  },
  {
   "cell_type": "markdown",
   "id": "e3aefe5a-42e2-48d2-8d02-df214c39308d",
   "metadata": {},
   "source": [
    "### Betweenness Centrality"
   ]
  },
  {
   "cell_type": "code",
   "execution_count": 12,
   "id": "73cc581f-0c4f-4035-be0f-6f8a981d2167",
   "metadata": {},
   "outputs": [
    {
     "name": "stdout",
     "output_type": "stream",
     "text": [
      "Betweenness Centrality (Team 4) = 41.5\n",
      "Betweenness Centrality (Team 7) = 1.0\n",
      "Betweenness Centrality (Team 9) = 10.0\n"
     ]
    }
   ],
   "source": [
    "for node2analyze in nodes2review:\n",
    "    shortest_pahts = {}\n",
    "    for node1 in g.nodes():\n",
    "        for node2 in g.nodes():\n",
    "            if (node1 != node2) and (node1 != node2analyze) and (node2 != node2analyze):\n",
    "                if node2analyze in nx.shortest_path(g, source=node1, target=node2):\n",
    "                    shortest_path = nx.shortest_path(g, source=node1, target=node2)\n",
    "                    #print('shortest_path', shortest_path, 'len', len(shortest_path))\n",
    "                    simple_paths = []\n",
    "                    for path in list(nx.all_simple_paths(g, source=shortest_path[0], target=shortest_path[-1])):\n",
    "                        if len(path)==len(shortest_path):\n",
    "                            simple_paths.append(path)\n",
    "                            \n",
    "                    #print('    simple_paths= ', simple_paths, len(simple_paths))                \n",
    "                            \n",
    "                    temp = shortest_path\n",
    "                    #temp.sort()\n",
    "                    if str(temp) not in shortest_pahts.keys():\n",
    "                        shortest_pahts[str(temp)] = [1, len(simple_paths)]\n",
    "                    else:\n",
    "                        shortest_pahts[str(temp)] = [shortest_pahts[str(temp)][0]+1, len(simple_paths)]\n",
    "    \n",
    "    betweenness_centrality = 0\n",
    "    for key in shortest_pahts.keys():\n",
    "        betweenness_centrality += shortest_pahts[key][0]/shortest_pahts[key][1]\n",
    "    print('Betweenness Centrality ({}) = {}'.format(node2analyze, betweenness_centrality))\n"
   ]
  },
  {
   "cell_type": "markdown",
   "id": "816e27c4-051b-4abf-8c6b-2db605ab07a9",
   "metadata": {},
   "source": [
    "## Conclusion"
   ]
  },
  {
   "cell_type": "markdown",
   "id": "c53647e5-9522-4cdc-bd78-4753b7e99580",
   "metadata": {},
   "source": [
    "# FIN"
   ]
  },
  {
   "cell_type": "code",
   "execution_count": null,
   "id": "81ad0833-153f-4673-9d27-058d6cd0c5fe",
   "metadata": {},
   "outputs": [],
   "source": []
  }
 ],
 "metadata": {
  "kernelspec": {
   "display_name": "Python 3 (ipykernel)",
   "language": "python",
   "name": "python3"
  },
  "language_info": {
   "codemirror_mode": {
    "name": "ipython",
    "version": 3
   },
   "file_extension": ".py",
   "mimetype": "text/x-python",
   "name": "python",
   "nbconvert_exporter": "python",
   "pygments_lexer": "ipython3",
   "version": "3.8.10"
  }
 },
 "nbformat": 4,
 "nbformat_minor": 5
}
